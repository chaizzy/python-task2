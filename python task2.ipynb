{
 "cells": [
  {
   "cell_type": "code",
   "execution_count": 5,
   "id": "93926dd7-952d-4dcf-b0c3-76dc90a6f583",
   "metadata": {},
   "outputs": [
    {
     "name": "stdin",
     "output_type": "stream",
     "text": [
      "enter the password AS@$dfghjk\n"
     ]
    },
    {
     "name": "stdout",
     "output_type": "stream",
     "text": [
      "valid password\n"
     ]
    }
   ],
   "source": [
    "#ANS 1:\n",
    "s = str(input(\"enter the password\"))\n",
    "count_upper = 0\n",
    "count_lower = 0\n",
    "count_special_char = 0\n",
    "\n",
    "if len(s)==10:\n",
    "    for i in s:\n",
    "        \n",
    "        if i.isupper():\n",
    "            count_upper += 1\n",
    "        \n",
    "        elif i.islower():\n",
    "            count_lower += 1\n",
    "            \n",
    "        elif (i==\"@\" or i==\"$\" or i==\"_\"):\n",
    "            count_special_char += 1\n",
    "            \n",
    "if ( count_upper >=2  and  count_lower >= 2 and  count_special_char >= 2 ):\n",
    "    print(\"valid password\")\n",
    "else:\n",
    "    print(\"invalid password\")\n",
    "            \n",
    "        \n",
    "        \n",
    "        \n"
   ]
  },
  {
   "cell_type": "markdown",
   "id": "a9b0a649-869f-40e3-88c8-662243f8fb8b",
   "metadata": {},
   "source": [
    "# ANS 2"
   ]
  },
  {
   "cell_type": "code",
   "execution_count": 11,
   "id": "7757d3a9-4ea3-4aec-b26d-83e78ca9f82a",
   "metadata": {},
   "outputs": [],
   "source": [
    "# check whether a string starts from a particular letter or not\n",
    "s = \"chaitanya\"\n",
    "s1 = \"rao\""
   ]
  },
  {
   "cell_type": "code",
   "execution_count": 9,
   "id": "411e9470-a189-48ee-bc91-2fa18c9362d3",
   "metadata": {},
   "outputs": [],
   "source": [
    "a = lambda x: \"yes\" if  x[0]==\"c\" else \"no\" "
   ]
  },
  {
   "cell_type": "code",
   "execution_count": 10,
   "id": "b20bf26b-f9e9-44f5-a3b9-34ccede67849",
   "metadata": {},
   "outputs": [
    {
     "data": {
      "text/plain": [
       "'yes'"
      ]
     },
     "execution_count": 10,
     "metadata": {},
     "output_type": "execute_result"
    }
   ],
   "source": [
    "a(s)"
   ]
  },
  {
   "cell_type": "code",
   "execution_count": 12,
   "id": "3baa40f1-669d-4f77-90d6-2419e53b43ef",
   "metadata": {},
   "outputs": [
    {
     "data": {
      "text/plain": [
       "'no'"
      ]
     },
     "execution_count": 12,
     "metadata": {},
     "output_type": "execute_result"
    }
   ],
   "source": [
    "a(s1)"
   ]
  },
  {
   "cell_type": "code",
   "execution_count": 18,
   "id": "83000ae0-96fe-49c4-9041-87201ad22d06",
   "metadata": {},
   "outputs": [],
   "source": [
    "# Check if the string is numeric\n",
    "s2 = \"234\"\n",
    "s3 = \"adf\"\n",
    "b = lambda x: \"yes\" if x.isnumeric() else \"no\""
   ]
  },
  {
   "cell_type": "code",
   "execution_count": 19,
   "id": "647dafff-faad-4048-b2ed-821739130109",
   "metadata": {},
   "outputs": [
    {
     "data": {
      "text/plain": [
       "'yes'"
      ]
     },
     "execution_count": 19,
     "metadata": {},
     "output_type": "execute_result"
    }
   ],
   "source": [
    "b(s2)"
   ]
  },
  {
   "cell_type": "code",
   "execution_count": 20,
   "id": "cfd37f0c-8814-4647-8c66-3dde13f85cb4",
   "metadata": {},
   "outputs": [
    {
     "data": {
      "text/plain": [
       "'no'"
      ]
     },
     "execution_count": 20,
     "metadata": {},
     "output_type": "execute_result"
    }
   ],
   "source": [
    "b(s3)"
   ]
  },
  {
   "cell_type": "code",
   "execution_count": 22,
   "id": "7e83edf8-0ba5-470c-a8d3-aae452a06651",
   "metadata": {},
   "outputs": [
    {
     "data": {
      "text/plain": [
       "[('orange', 80), ('mango', 99), ('grapes', 1000)]"
      ]
     },
     "execution_count": 22,
     "metadata": {},
     "output_type": "execute_result"
    }
   ],
   "source": [
    "# sort the tuple according to their quantity\n",
    "t = [(\"mango\",99),(\"orange\",80), (\"grapes\", 1000)]\n",
    "t.sort(key = lambda x: x[1] , reverse=False)\n",
    "t"
   ]
  },
  {
   "cell_type": "code",
   "execution_count": 26,
   "id": "2a572fd2-e528-4aca-84a6-b9ce6670401f",
   "metadata": {},
   "outputs": [
    {
     "data": {
      "text/plain": [
       "[1, 4, 9, 16, 25, 36, 49, 64, 81, 100]"
      ]
     },
     "execution_count": 26,
     "metadata": {},
     "output_type": "execute_result"
    }
   ],
   "source": [
    "# Find the squares of numbers from 1 to 10\n",
    "t1 = [1,2,3,4,5,6,7,8,9,10]\n",
    "list(map(lambda x:x**2 ,t1 ))"
   ]
  },
  {
   "cell_type": "code",
   "execution_count": 27,
   "id": "c1466826-5f74-4bc3-bf49-dd1589f84b20",
   "metadata": {},
   "outputs": [
    {
     "data": {
      "text/plain": [
       "[1, 8, 27, 64, 125, 216, 343, 512, 729, 1000]"
      ]
     },
     "execution_count": 27,
     "metadata": {},
     "output_type": "execute_result"
    }
   ],
   "source": [
    "# Find the cube root of numbers from 1 to 10\n",
    "list(map(lambda x:x**3 , t1))"
   ]
  },
  {
   "cell_type": "code",
   "execution_count": 28,
   "id": "a4c3fe5d-a2fa-4573-8c05-fe036710d5ac",
   "metadata": {},
   "outputs": [],
   "source": [
    "# Check if a given number is even\n",
    "d = lambda x: \"yes\" if  x%2==0 else \"no\""
   ]
  },
  {
   "cell_type": "code",
   "execution_count": 29,
   "id": "730ebc55-876f-48b9-8e13-a39a833d9552",
   "metadata": {},
   "outputs": [
    {
     "data": {
      "text/plain": [
       "'no'"
      ]
     },
     "execution_count": 29,
     "metadata": {},
     "output_type": "execute_result"
    }
   ],
   "source": [
    "d(3)"
   ]
  },
  {
   "cell_type": "code",
   "execution_count": 31,
   "id": "844c0ff9-9d97-40da-bfb4-88d7037465de",
   "metadata": {},
   "outputs": [
    {
     "data": {
      "text/plain": [
       "[1, 3, 5, 7, 9]"
      ]
     },
     "execution_count": 31,
     "metadata": {},
     "output_type": "execute_result"
    }
   ],
   "source": [
    "# Filter odd numbers from the given list\n",
    "i = [1,2,3,4,5,6,7,8,9,10]\n",
    "list(filter(lambda x: x%2 != 0 , i))\n"
   ]
  },
  {
   "cell_type": "code",
   "execution_count": 33,
   "id": "172cfded-f6df-4f65-91ff-a38caeafaf30",
   "metadata": {},
   "outputs": [
    {
     "data": {
      "text/plain": [
       "[1, 2, 3, 4, 5, 6]"
      ]
     },
     "execution_count": 33,
     "metadata": {},
     "output_type": "execute_result"
    }
   ],
   "source": [
    "# Sort a list of integers into positive and negative integers lists\n",
    "w = [1,2,3,4,5,6,-1,-2,-3,-4,-5,0]\n",
    "list(filter(lambda x: x<0 , w))\n",
    "list(filter(lambda x:x>0 , w))\n"
   ]
  },
  {
   "cell_type": "code",
   "execution_count": null,
   "id": "5cb396e9-55f1-4f41-9896-aa4c7219c14c",
   "metadata": {},
   "outputs": [],
   "source": []
  }
 ],
 "metadata": {
  "kernelspec": {
   "display_name": "Python 3 (ipykernel)",
   "language": "python",
   "name": "python3"
  },
  "language_info": {
   "codemirror_mode": {
    "name": "ipython",
    "version": 3
   },
   "file_extension": ".py",
   "mimetype": "text/x-python",
   "name": "python",
   "nbconvert_exporter": "python",
   "pygments_lexer": "ipython3",
   "version": "3.10.8"
  }
 },
 "nbformat": 4,
 "nbformat_minor": 5
}
